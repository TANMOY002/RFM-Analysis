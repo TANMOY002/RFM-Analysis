{
 "cells": [
  {
   "cell_type": "markdown",
   "id": "6e89b6a2",
   "metadata": {},
   "source": [
    "# RFM Analysis\n",
    "\n",
    "RFM analysis is a marketing technique used to quantitatively rank and group customers based on the recency, frequency and monetary total of their recent transactions to identify the best customers and perform targeted marketing campaigns.\n",
    "\n",
    "The 3 main factors which are of focus here are\n",
    "\n",
    "Recency- When was the last time the customer had purchased? Here Recency has been measured in days\n",
    "\n",
    "Frequency-How many transactions did the customer make?\n",
    "\n",
    "Monetory Value- How much money did the customer spend? Here we have taken the average money the customer had spent in each transaction.\n",
    "\n",
    "<b>Objective</b>: To help a store target its customer based on their purchase behavior."
   ]
  },
  {
   "cell_type": "markdown",
   "id": "c0dc6f7d",
   "metadata": {},
   "source": [
    "# Data Description\n",
    "\n",
    "The data is about transactions in a retail store.\n",
    "* InvoiceNo - Bill Number\n",
    "* StockCode - SKU code of item \n",
    "* Description - Name of product\n",
    "* Quantity - Quantity of product purchased\n",
    "* Invoice Date - Date of purchase\n",
    "* UnitPrice - Price of each product\n",
    "* CustomerID - Customer ID of each customer \n",
    "\n",
    "Source : Open Source"
   ]
  },
  {
   "cell_type": "code",
   "execution_count": 330,
   "id": "1e2dae78",
   "metadata": {},
   "outputs": [],
   "source": [
    "import numpy as np\n",
    "import pandas as pd\n",
    "import matplotlib.pyplot as plt\n",
    "import seaborn as sns\n",
    "import warnings\n",
    "warnings.filterwarnings(\"ignore\")"
   ]
  },
  {
   "cell_type": "code",
   "execution_count": 331,
   "id": "44b9297a",
   "metadata": {},
   "outputs": [],
   "source": [
    "df=pd.read_excel(\"C:/Users/tanmo/Downloads/Online Retail (1).xlsx\")"
   ]
  },
  {
   "cell_type": "code",
   "execution_count": 332,
   "id": "c09ff615",
   "metadata": {},
   "outputs": [
    {
     "name": "stdout",
     "output_type": "stream",
     "text": [
      "No of instances before removing duplicates : (51243, 7)\n",
      "No of instances after removing duplicates : (51243, 7)\n"
     ]
    },
    {
     "data": {
      "text/html": [
       "<div>\n",
       "<style scoped>\n",
       "    .dataframe tbody tr th:only-of-type {\n",
       "        vertical-align: middle;\n",
       "    }\n",
       "\n",
       "    .dataframe tbody tr th {\n",
       "        vertical-align: top;\n",
       "    }\n",
       "\n",
       "    .dataframe thead th {\n",
       "        text-align: right;\n",
       "    }\n",
       "</style>\n",
       "<table border=\"1\" class=\"dataframe\">\n",
       "  <thead>\n",
       "    <tr style=\"text-align: right;\">\n",
       "      <th></th>\n",
       "      <th>InvoiceNo</th>\n",
       "      <th>StockCode</th>\n",
       "      <th>Description</th>\n",
       "      <th>Quantity</th>\n",
       "      <th>InvoiceDate</th>\n",
       "      <th>UnitPrice</th>\n",
       "      <th>CustomerID</th>\n",
       "    </tr>\n",
       "  </thead>\n",
       "  <tbody>\n",
       "    <tr>\n",
       "      <th>0</th>\n",
       "      <td>536365</td>\n",
       "      <td>85123A</td>\n",
       "      <td>WHITE HANGING HEART T-LIGHT HOLDER</td>\n",
       "      <td>6</td>\n",
       "      <td>2009-11-06</td>\n",
       "      <td>2.55</td>\n",
       "      <td>17850.0</td>\n",
       "    </tr>\n",
       "    <tr>\n",
       "      <th>1</th>\n",
       "      <td>536365</td>\n",
       "      <td>71053</td>\n",
       "      <td>WHITE METAL LANTERN</td>\n",
       "      <td>6</td>\n",
       "      <td>2012-09-28</td>\n",
       "      <td>3.39</td>\n",
       "      <td>17850.0</td>\n",
       "    </tr>\n",
       "    <tr>\n",
       "      <th>2</th>\n",
       "      <td>536365</td>\n",
       "      <td>84406B</td>\n",
       "      <td>CREAM CUPID HEARTS COAT HANGER</td>\n",
       "      <td>8</td>\n",
       "      <td>2005-10-25</td>\n",
       "      <td>2.75</td>\n",
       "      <td>17850.0</td>\n",
       "    </tr>\n",
       "    <tr>\n",
       "      <th>3</th>\n",
       "      <td>536365</td>\n",
       "      <td>84029G</td>\n",
       "      <td>KNITTED UNION FLAG HOT WATER BOTTLE</td>\n",
       "      <td>6</td>\n",
       "      <td>2009-07-09</td>\n",
       "      <td>3.39</td>\n",
       "      <td>17850.0</td>\n",
       "    </tr>\n",
       "    <tr>\n",
       "      <th>4</th>\n",
       "      <td>536365</td>\n",
       "      <td>84029E</td>\n",
       "      <td>RED WOOLLY HOTTIE WHITE HEART.</td>\n",
       "      <td>6</td>\n",
       "      <td>2013-01-25</td>\n",
       "      <td>3.39</td>\n",
       "      <td>17850.0</td>\n",
       "    </tr>\n",
       "  </tbody>\n",
       "</table>\n",
       "</div>"
      ],
      "text/plain": [
       "  InvoiceNo StockCode                          Description  Quantity  \\\n",
       "0    536365    85123A   WHITE HANGING HEART T-LIGHT HOLDER         6   \n",
       "1    536365     71053                  WHITE METAL LANTERN         6   \n",
       "2    536365    84406B       CREAM CUPID HEARTS COAT HANGER         8   \n",
       "3    536365    84029G  KNITTED UNION FLAG HOT WATER BOTTLE         6   \n",
       "4    536365    84029E       RED WOOLLY HOTTIE WHITE HEART.         6   \n",
       "\n",
       "  InvoiceDate  UnitPrice  CustomerID  \n",
       "0  2009-11-06       2.55     17850.0  \n",
       "1  2012-09-28       3.39     17850.0  \n",
       "2  2005-10-25       2.75     17850.0  \n",
       "3  2009-07-09       3.39     17850.0  \n",
       "4  2013-01-25       3.39     17850.0  "
      ]
     },
     "execution_count": 332,
     "metadata": {},
     "output_type": "execute_result"
    }
   ],
   "source": [
    "print('No of instances before removing duplicates :',df.shape)\n",
    "df.drop_duplicates\n",
    "print('No of instances after removing duplicates :',df.shape)\n",
    "df.head()"
   ]
  },
  {
   "cell_type": "code",
   "execution_count": 333,
   "id": "d8bff55a",
   "metadata": {},
   "outputs": [
    {
     "data": {
      "text/html": [
       "<div>\n",
       "<style scoped>\n",
       "    .dataframe tbody tr th:only-of-type {\n",
       "        vertical-align: middle;\n",
       "    }\n",
       "\n",
       "    .dataframe tbody tr th {\n",
       "        vertical-align: top;\n",
       "    }\n",
       "\n",
       "    .dataframe thead th {\n",
       "        text-align: right;\n",
       "    }\n",
       "</style>\n",
       "<table border=\"1\" class=\"dataframe\">\n",
       "  <thead>\n",
       "    <tr style=\"text-align: right;\">\n",
       "      <th></th>\n",
       "      <th>Quantity</th>\n",
       "      <th>UnitPrice</th>\n",
       "      <th>CustomerID</th>\n",
       "    </tr>\n",
       "  </thead>\n",
       "  <tbody>\n",
       "    <tr>\n",
       "      <th>count</th>\n",
       "      <td>51243.000000</td>\n",
       "      <td>51243.000000</td>\n",
       "      <td>31217.000000</td>\n",
       "    </tr>\n",
       "    <tr>\n",
       "      <th>mean</th>\n",
       "      <td>7.798275</td>\n",
       "      <td>6.347769</td>\n",
       "      <td>15661.752282</td>\n",
       "    </tr>\n",
       "    <tr>\n",
       "      <th>std</th>\n",
       "      <td>59.413599</td>\n",
       "      <td>164.454515</td>\n",
       "      <td>1620.367145</td>\n",
       "    </tr>\n",
       "    <tr>\n",
       "      <th>min</th>\n",
       "      <td>-9360.000000</td>\n",
       "      <td>0.000000</td>\n",
       "      <td>12747.000000</td>\n",
       "    </tr>\n",
       "    <tr>\n",
       "      <th>25%</th>\n",
       "      <td>1.000000</td>\n",
       "      <td>1.250000</td>\n",
       "      <td>14437.000000</td>\n",
       "    </tr>\n",
       "    <tr>\n",
       "      <th>50%</th>\n",
       "      <td>2.000000</td>\n",
       "      <td>2.510000</td>\n",
       "      <td>15605.000000</td>\n",
       "    </tr>\n",
       "    <tr>\n",
       "      <th>75%</th>\n",
       "      <td>6.000000</td>\n",
       "      <td>4.250000</td>\n",
       "      <td>17198.000000</td>\n",
       "    </tr>\n",
       "    <tr>\n",
       "      <th>max</th>\n",
       "      <td>3114.000000</td>\n",
       "      <td>16888.020000</td>\n",
       "      <td>18283.000000</td>\n",
       "    </tr>\n",
       "  </tbody>\n",
       "</table>\n",
       "</div>"
      ],
      "text/plain": [
       "           Quantity     UnitPrice    CustomerID\n",
       "count  51243.000000  51243.000000  31217.000000\n",
       "mean       7.798275      6.347769  15661.752282\n",
       "std       59.413599    164.454515   1620.367145\n",
       "min    -9360.000000      0.000000  12747.000000\n",
       "25%        1.000000      1.250000  14437.000000\n",
       "50%        2.000000      2.510000  15605.000000\n",
       "75%        6.000000      4.250000  17198.000000\n",
       "max     3114.000000  16888.020000  18283.000000"
      ]
     },
     "execution_count": 333,
     "metadata": {},
     "output_type": "execute_result"
    }
   ],
   "source": [
    "df.describe()"
   ]
  },
  {
   "cell_type": "code",
   "execution_count": 334,
   "id": "b09b5bfe",
   "metadata": {},
   "outputs": [
    {
     "name": "stdout",
     "output_type": "stream",
     "text": [
      "<class 'pandas.core.frame.DataFrame'>\n",
      "RangeIndex: 51243 entries, 0 to 51242\n",
      "Data columns (total 7 columns):\n",
      " #   Column       Non-Null Count  Dtype         \n",
      "---  ------       --------------  -----         \n",
      " 0   InvoiceNo    51243 non-null  object        \n",
      " 1   StockCode    51243 non-null  object        \n",
      " 2   Description  51085 non-null  object        \n",
      " 3   Quantity     51243 non-null  int64         \n",
      " 4   InvoiceDate  51243 non-null  datetime64[ns]\n",
      " 5   UnitPrice    51243 non-null  float64       \n",
      " 6   CustomerID   31217 non-null  float64       \n",
      "dtypes: datetime64[ns](1), float64(2), int64(1), object(3)\n",
      "memory usage: 2.7+ MB\n"
     ]
    }
   ],
   "source": [
    "df.info()"
   ]
  },
  {
   "cell_type": "code",
   "execution_count": 335,
   "id": "0b560b50",
   "metadata": {},
   "outputs": [
    {
     "data": {
      "text/plain": [
       "InvoiceNo              object\n",
       "StockCode              object\n",
       "Description            object\n",
       "Quantity                int64\n",
       "InvoiceDate    datetime64[ns]\n",
       "UnitPrice             float64\n",
       "CustomerID            float64\n",
       "dtype: object"
      ]
     },
     "execution_count": 335,
     "metadata": {},
     "output_type": "execute_result"
    }
   ],
   "source": [
    "df.dtypes"
   ]
  },
  {
   "cell_type": "code",
   "execution_count": 336,
   "id": "9e9a1a6b",
   "metadata": {},
   "outputs": [
    {
     "data": {
      "text/plain": [
       "(50297, 7)"
      ]
     },
     "execution_count": 336,
     "metadata": {},
     "output_type": "execute_result"
    }
   ],
   "source": [
    "#Removing records which have negative quantity\n",
    "df_new = df[df['Quantity']>=0]\n",
    "df_new.shape"
   ]
  },
  {
   "cell_type": "code",
   "execution_count": 337,
   "id": "d9068333",
   "metadata": {},
   "outputs": [
    {
     "data": {
      "text/plain": [
       "(30411, 7)"
      ]
     },
     "execution_count": 337,
     "metadata": {},
     "output_type": "execute_result"
    }
   ],
   "source": [
    "#remove records where customerID are NA\n",
    "df_new.dropna(subset=['CustomerID'],how='all',inplace=True)\n",
    "df_new.shape"
   ]
  },
  {
   "cell_type": "code",
   "execution_count": 338,
   "id": "50c92fe8",
   "metadata": {
    "scrolled": true
   },
   "outputs": [
    {
     "data": {
      "text/plain": [
       "7293    2005-01-02\n",
       "24329   2005-01-02\n",
       "17480   2005-01-02\n",
       "17048   2005-01-04\n",
       "34344   2005-01-06\n",
       "           ...    \n",
       "7725    2015-12-31\n",
       "14003   2015-12-31\n",
       "7606    2015-12-31\n",
       "13912   2015-12-31\n",
       "49277   2015-12-31\n",
       "Name: InvoiceDate, Length: 30411, dtype: datetime64[ns]"
      ]
     },
     "execution_count": 338,
     "metadata": {},
     "output_type": "execute_result"
    }
   ],
   "source": [
    "df_new['InvoiceDate'].sort_values()"
   ]
  },
  {
   "cell_type": "code",
   "execution_count": 339,
   "id": "49d63a59",
   "metadata": {},
   "outputs": [
    {
     "name": "stdout",
     "output_type": "stream",
     "text": [
      "Number of transactions:  1593\n",
      "Number of customers: 938\n",
      "Number of Product: 2480\n"
     ]
    }
   ],
   "source": [
    "#exploring the unique values of each attribute\n",
    "print(\"Number of transactions: \", df_new['InvoiceNo'].nunique())\n",
    "print(\"Number of customers:\", df_new['CustomerID'].nunique())\n",
    "print(\"Number of Product:\", df_new['Description'].nunique())"
   ]
  },
  {
   "cell_type": "markdown",
   "id": "2bf06909",
   "metadata": {},
   "source": [
    "# RFM Analysis"
   ]
  },
  {
   "cell_type": "code",
   "execution_count": 340,
   "id": "39b867bc",
   "metadata": {},
   "outputs": [
    {
     "name": "stdout",
     "output_type": "stream",
     "text": [
      "2015-12-31 00:00:00\n",
      "2005-01-02 00:00:00\n"
     ]
    }
   ],
   "source": [
    "print(df_new['InvoiceDate'].max())\n",
    "print(df_new['InvoiceDate'].min())"
   ]
  },
  {
   "cell_type": "code",
   "execution_count": 341,
   "id": "3f0122dc",
   "metadata": {},
   "outputs": [],
   "source": [
    "from datetime import datetime\n",
    "df_new['InvoiceDate'] = pd.DatetimeIndex(df_new['InvoiceDate']).date"
   ]
  },
  {
   "cell_type": "code",
   "execution_count": 342,
   "id": "3a8fa186",
   "metadata": {},
   "outputs": [
    {
     "data": {
      "text/plain": [
       "Index(['InvoiceNo', 'StockCode', 'Description', 'Quantity', 'InvoiceDate',\n",
       "       'UnitPrice', 'CustomerID'],\n",
       "      dtype='object')"
      ]
     },
     "execution_count": 342,
     "metadata": {},
     "output_type": "execute_result"
    }
   ],
   "source": [
    "df_new.columns"
   ]
  },
  {
   "cell_type": "code",
   "execution_count": 343,
   "id": "5b575eef",
   "metadata": {},
   "outputs": [
    {
     "data": {
      "text/plain": [
       "InvoiceNo       object\n",
       "StockCode       object\n",
       "Description     object\n",
       "Quantity         int64\n",
       "InvoiceDate     object\n",
       "UnitPrice      float64\n",
       "CustomerID     float64\n",
       "dtype: object"
      ]
     },
     "execution_count": 343,
     "metadata": {},
     "output_type": "execute_result"
    }
   ],
   "source": [
    "df_new.dtypes"
   ]
  },
  {
   "cell_type": "code",
   "execution_count": 344,
   "id": "8f8fe50a",
   "metadata": {},
   "outputs": [
    {
     "data": {
      "text/html": [
       "<div>\n",
       "<style scoped>\n",
       "    .dataframe tbody tr th:only-of-type {\n",
       "        vertical-align: middle;\n",
       "    }\n",
       "\n",
       "    .dataframe tbody tr th {\n",
       "        vertical-align: top;\n",
       "    }\n",
       "\n",
       "    .dataframe thead th {\n",
       "        text-align: right;\n",
       "    }\n",
       "</style>\n",
       "<table border=\"1\" class=\"dataframe\">\n",
       "  <thead>\n",
       "    <tr style=\"text-align: right;\">\n",
       "      <th></th>\n",
       "      <th>InvoiceNo</th>\n",
       "      <th>StockCode</th>\n",
       "      <th>Description</th>\n",
       "      <th>Quantity</th>\n",
       "      <th>InvoiceDate</th>\n",
       "      <th>UnitPrice</th>\n",
       "      <th>CustomerID</th>\n",
       "      <th>month</th>\n",
       "    </tr>\n",
       "  </thead>\n",
       "  <tbody>\n",
       "    <tr>\n",
       "      <th>0</th>\n",
       "      <td>536365</td>\n",
       "      <td>85123A</td>\n",
       "      <td>WHITE HANGING HEART T-LIGHT HOLDER</td>\n",
       "      <td>6</td>\n",
       "      <td>2009-11-06</td>\n",
       "      <td>2.55</td>\n",
       "      <td>17850.0</td>\n",
       "      <td>11</td>\n",
       "    </tr>\n",
       "    <tr>\n",
       "      <th>1</th>\n",
       "      <td>536365</td>\n",
       "      <td>71053</td>\n",
       "      <td>WHITE METAL LANTERN</td>\n",
       "      <td>6</td>\n",
       "      <td>2012-09-28</td>\n",
       "      <td>3.39</td>\n",
       "      <td>17850.0</td>\n",
       "      <td>9</td>\n",
       "    </tr>\n",
       "    <tr>\n",
       "      <th>2</th>\n",
       "      <td>536365</td>\n",
       "      <td>84406B</td>\n",
       "      <td>CREAM CUPID HEARTS COAT HANGER</td>\n",
       "      <td>8</td>\n",
       "      <td>2005-10-25</td>\n",
       "      <td>2.75</td>\n",
       "      <td>17850.0</td>\n",
       "      <td>10</td>\n",
       "    </tr>\n",
       "    <tr>\n",
       "      <th>3</th>\n",
       "      <td>536365</td>\n",
       "      <td>84029G</td>\n",
       "      <td>KNITTED UNION FLAG HOT WATER BOTTLE</td>\n",
       "      <td>6</td>\n",
       "      <td>2009-07-09</td>\n",
       "      <td>3.39</td>\n",
       "      <td>17850.0</td>\n",
       "      <td>7</td>\n",
       "    </tr>\n",
       "    <tr>\n",
       "      <th>4</th>\n",
       "      <td>536365</td>\n",
       "      <td>84029E</td>\n",
       "      <td>RED WOOLLY HOTTIE WHITE HEART.</td>\n",
       "      <td>6</td>\n",
       "      <td>2013-01-25</td>\n",
       "      <td>3.39</td>\n",
       "      <td>17850.0</td>\n",
       "      <td>1</td>\n",
       "    </tr>\n",
       "    <tr>\n",
       "      <th>...</th>\n",
       "      <td>...</td>\n",
       "      <td>...</td>\n",
       "      <td>...</td>\n",
       "      <td>...</td>\n",
       "      <td>...</td>\n",
       "      <td>...</td>\n",
       "      <td>...</td>\n",
       "      <td>...</td>\n",
       "    </tr>\n",
       "    <tr>\n",
       "      <th>51238</th>\n",
       "      <td>540957</td>\n",
       "      <td>21245</td>\n",
       "      <td>GREEN POLKADOT PLATE</td>\n",
       "      <td>3</td>\n",
       "      <td>2011-11-12</td>\n",
       "      <td>1.69</td>\n",
       "      <td>15311.0</td>\n",
       "      <td>11</td>\n",
       "    </tr>\n",
       "    <tr>\n",
       "      <th>51239</th>\n",
       "      <td>540957</td>\n",
       "      <td>21240</td>\n",
       "      <td>BLUE POLKADOT CUP</td>\n",
       "      <td>4</td>\n",
       "      <td>2013-11-15</td>\n",
       "      <td>0.85</td>\n",
       "      <td>15311.0</td>\n",
       "      <td>11</td>\n",
       "    </tr>\n",
       "    <tr>\n",
       "      <th>51240</th>\n",
       "      <td>540957</td>\n",
       "      <td>21239</td>\n",
       "      <td>PINK  POLKADOT CUP</td>\n",
       "      <td>4</td>\n",
       "      <td>2014-12-23</td>\n",
       "      <td>0.85</td>\n",
       "      <td>15311.0</td>\n",
       "      <td>12</td>\n",
       "    </tr>\n",
       "    <tr>\n",
       "      <th>51241</th>\n",
       "      <td>540957</td>\n",
       "      <td>21238</td>\n",
       "      <td>RED RETROSPOT CUP</td>\n",
       "      <td>4</td>\n",
       "      <td>2015-05-28</td>\n",
       "      <td>0.85</td>\n",
       "      <td>15311.0</td>\n",
       "      <td>5</td>\n",
       "    </tr>\n",
       "    <tr>\n",
       "      <th>51242</th>\n",
       "      <td>540957</td>\n",
       "      <td>20676</td>\n",
       "      <td>RED RETROSPOT BOWL</td>\n",
       "      <td>4</td>\n",
       "      <td>2011-11-30</td>\n",
       "      <td>1.25</td>\n",
       "      <td>15311.0</td>\n",
       "      <td>11</td>\n",
       "    </tr>\n",
       "  </tbody>\n",
       "</table>\n",
       "<p>30411 rows × 8 columns</p>\n",
       "</div>"
      ],
      "text/plain": [
       "      InvoiceNo StockCode                          Description  Quantity  \\\n",
       "0        536365    85123A   WHITE HANGING HEART T-LIGHT HOLDER         6   \n",
       "1        536365     71053                  WHITE METAL LANTERN         6   \n",
       "2        536365    84406B       CREAM CUPID HEARTS COAT HANGER         8   \n",
       "3        536365    84029G  KNITTED UNION FLAG HOT WATER BOTTLE         6   \n",
       "4        536365    84029E       RED WOOLLY HOTTIE WHITE HEART.         6   \n",
       "...         ...       ...                                  ...       ...   \n",
       "51238    540957     21245                GREEN POLKADOT PLATE          3   \n",
       "51239    540957     21240                    BLUE POLKADOT CUP         4   \n",
       "51240    540957     21239                   PINK  POLKADOT CUP         4   \n",
       "51241    540957     21238                    RED RETROSPOT CUP         4   \n",
       "51242    540957     20676                   RED RETROSPOT BOWL         4   \n",
       "\n",
       "      InvoiceDate  UnitPrice  CustomerID  month  \n",
       "0      2009-11-06       2.55     17850.0     11  \n",
       "1      2012-09-28       3.39     17850.0      9  \n",
       "2      2005-10-25       2.75     17850.0     10  \n",
       "3      2009-07-09       3.39     17850.0      7  \n",
       "4      2013-01-25       3.39     17850.0      1  \n",
       "...           ...        ...         ...    ...  \n",
       "51238  2011-11-12       1.69     15311.0     11  \n",
       "51239  2013-11-15       0.85     15311.0     11  \n",
       "51240  2014-12-23       0.85     15311.0     12  \n",
       "51241  2015-05-28       0.85     15311.0      5  \n",
       "51242  2011-11-30       1.25     15311.0     11  \n",
       "\n",
       "[30411 rows x 8 columns]"
      ]
     },
     "execution_count": 344,
     "metadata": {},
     "output_type": "execute_result"
    }
   ],
   "source": [
    "df_new['month'] = pd.to_datetime(df_new['InvoiceDate']).dt.month\n",
    "df_new"
   ]
  },
  {
   "cell_type": "code",
   "execution_count": 345,
   "id": "69ecd74c",
   "metadata": {},
   "outputs": [
    {
     "data": {
      "text/html": [
       "<div>\n",
       "<style scoped>\n",
       "    .dataframe tbody tr th:only-of-type {\n",
       "        vertical-align: middle;\n",
       "    }\n",
       "\n",
       "    .dataframe tbody tr th {\n",
       "        vertical-align: top;\n",
       "    }\n",
       "\n",
       "    .dataframe thead th {\n",
       "        text-align: right;\n",
       "    }\n",
       "</style>\n",
       "<table border=\"1\" class=\"dataframe\">\n",
       "  <thead>\n",
       "    <tr style=\"text-align: right;\">\n",
       "      <th></th>\n",
       "      <th>InvoiceNo</th>\n",
       "      <th>StockCode</th>\n",
       "      <th>Description</th>\n",
       "      <th>Quantity</th>\n",
       "      <th>InvoiceDate</th>\n",
       "      <th>UnitPrice</th>\n",
       "      <th>CustomerID</th>\n",
       "      <th>month</th>\n",
       "      <th>year</th>\n",
       "    </tr>\n",
       "  </thead>\n",
       "  <tbody>\n",
       "    <tr>\n",
       "      <th>0</th>\n",
       "      <td>536365</td>\n",
       "      <td>85123A</td>\n",
       "      <td>WHITE HANGING HEART T-LIGHT HOLDER</td>\n",
       "      <td>6</td>\n",
       "      <td>2009-11-06</td>\n",
       "      <td>2.55</td>\n",
       "      <td>17850.0</td>\n",
       "      <td>11</td>\n",
       "      <td>2009</td>\n",
       "    </tr>\n",
       "    <tr>\n",
       "      <th>1</th>\n",
       "      <td>536365</td>\n",
       "      <td>71053</td>\n",
       "      <td>WHITE METAL LANTERN</td>\n",
       "      <td>6</td>\n",
       "      <td>2012-09-28</td>\n",
       "      <td>3.39</td>\n",
       "      <td>17850.0</td>\n",
       "      <td>9</td>\n",
       "      <td>2012</td>\n",
       "    </tr>\n",
       "    <tr>\n",
       "      <th>2</th>\n",
       "      <td>536365</td>\n",
       "      <td>84406B</td>\n",
       "      <td>CREAM CUPID HEARTS COAT HANGER</td>\n",
       "      <td>8</td>\n",
       "      <td>2005-10-25</td>\n",
       "      <td>2.75</td>\n",
       "      <td>17850.0</td>\n",
       "      <td>10</td>\n",
       "      <td>2005</td>\n",
       "    </tr>\n",
       "    <tr>\n",
       "      <th>3</th>\n",
       "      <td>536365</td>\n",
       "      <td>84029G</td>\n",
       "      <td>KNITTED UNION FLAG HOT WATER BOTTLE</td>\n",
       "      <td>6</td>\n",
       "      <td>2009-07-09</td>\n",
       "      <td>3.39</td>\n",
       "      <td>17850.0</td>\n",
       "      <td>7</td>\n",
       "      <td>2009</td>\n",
       "    </tr>\n",
       "    <tr>\n",
       "      <th>4</th>\n",
       "      <td>536365</td>\n",
       "      <td>84029E</td>\n",
       "      <td>RED WOOLLY HOTTIE WHITE HEART.</td>\n",
       "      <td>6</td>\n",
       "      <td>2013-01-25</td>\n",
       "      <td>3.39</td>\n",
       "      <td>17850.0</td>\n",
       "      <td>1</td>\n",
       "      <td>2013</td>\n",
       "    </tr>\n",
       "    <tr>\n",
       "      <th>...</th>\n",
       "      <td>...</td>\n",
       "      <td>...</td>\n",
       "      <td>...</td>\n",
       "      <td>...</td>\n",
       "      <td>...</td>\n",
       "      <td>...</td>\n",
       "      <td>...</td>\n",
       "      <td>...</td>\n",
       "      <td>...</td>\n",
       "    </tr>\n",
       "    <tr>\n",
       "      <th>51238</th>\n",
       "      <td>540957</td>\n",
       "      <td>21245</td>\n",
       "      <td>GREEN POLKADOT PLATE</td>\n",
       "      <td>3</td>\n",
       "      <td>2011-11-12</td>\n",
       "      <td>1.69</td>\n",
       "      <td>15311.0</td>\n",
       "      <td>11</td>\n",
       "      <td>2011</td>\n",
       "    </tr>\n",
       "    <tr>\n",
       "      <th>51239</th>\n",
       "      <td>540957</td>\n",
       "      <td>21240</td>\n",
       "      <td>BLUE POLKADOT CUP</td>\n",
       "      <td>4</td>\n",
       "      <td>2013-11-15</td>\n",
       "      <td>0.85</td>\n",
       "      <td>15311.0</td>\n",
       "      <td>11</td>\n",
       "      <td>2013</td>\n",
       "    </tr>\n",
       "    <tr>\n",
       "      <th>51240</th>\n",
       "      <td>540957</td>\n",
       "      <td>21239</td>\n",
       "      <td>PINK  POLKADOT CUP</td>\n",
       "      <td>4</td>\n",
       "      <td>2014-12-23</td>\n",
       "      <td>0.85</td>\n",
       "      <td>15311.0</td>\n",
       "      <td>12</td>\n",
       "      <td>2014</td>\n",
       "    </tr>\n",
       "    <tr>\n",
       "      <th>51241</th>\n",
       "      <td>540957</td>\n",
       "      <td>21238</td>\n",
       "      <td>RED RETROSPOT CUP</td>\n",
       "      <td>4</td>\n",
       "      <td>2015-05-28</td>\n",
       "      <td>0.85</td>\n",
       "      <td>15311.0</td>\n",
       "      <td>5</td>\n",
       "      <td>2015</td>\n",
       "    </tr>\n",
       "    <tr>\n",
       "      <th>51242</th>\n",
       "      <td>540957</td>\n",
       "      <td>20676</td>\n",
       "      <td>RED RETROSPOT BOWL</td>\n",
       "      <td>4</td>\n",
       "      <td>2011-11-30</td>\n",
       "      <td>1.25</td>\n",
       "      <td>15311.0</td>\n",
       "      <td>11</td>\n",
       "      <td>2011</td>\n",
       "    </tr>\n",
       "  </tbody>\n",
       "</table>\n",
       "<p>30411 rows × 9 columns</p>\n",
       "</div>"
      ],
      "text/plain": [
       "      InvoiceNo StockCode                          Description  Quantity  \\\n",
       "0        536365    85123A   WHITE HANGING HEART T-LIGHT HOLDER         6   \n",
       "1        536365     71053                  WHITE METAL LANTERN         6   \n",
       "2        536365    84406B       CREAM CUPID HEARTS COAT HANGER         8   \n",
       "3        536365    84029G  KNITTED UNION FLAG HOT WATER BOTTLE         6   \n",
       "4        536365    84029E       RED WOOLLY HOTTIE WHITE HEART.         6   \n",
       "...         ...       ...                                  ...       ...   \n",
       "51238    540957     21245                GREEN POLKADOT PLATE          3   \n",
       "51239    540957     21240                    BLUE POLKADOT CUP         4   \n",
       "51240    540957     21239                   PINK  POLKADOT CUP         4   \n",
       "51241    540957     21238                    RED RETROSPOT CUP         4   \n",
       "51242    540957     20676                   RED RETROSPOT BOWL         4   \n",
       "\n",
       "      InvoiceDate  UnitPrice  CustomerID  month  year  \n",
       "0      2009-11-06       2.55     17850.0     11  2009  \n",
       "1      2012-09-28       3.39     17850.0      9  2012  \n",
       "2      2005-10-25       2.75     17850.0     10  2005  \n",
       "3      2009-07-09       3.39     17850.0      7  2009  \n",
       "4      2013-01-25       3.39     17850.0      1  2013  \n",
       "...           ...        ...         ...    ...   ...  \n",
       "51238  2011-11-12       1.69     15311.0     11  2011  \n",
       "51239  2013-11-15       0.85     15311.0     11  2013  \n",
       "51240  2014-12-23       0.85     15311.0     12  2014  \n",
       "51241  2015-05-28       0.85     15311.0      5  2015  \n",
       "51242  2011-11-30       1.25     15311.0     11  2011  \n",
       "\n",
       "[30411 rows x 9 columns]"
      ]
     },
     "execution_count": 345,
     "metadata": {},
     "output_type": "execute_result"
    }
   ],
   "source": [
    "df_new['year'] = pd.to_datetime(df_new['InvoiceDate']).dt.year\n",
    "df_new"
   ]
  },
  {
   "cell_type": "markdown",
   "id": "524fd5d9",
   "metadata": {},
   "source": [
    "# Recency"
   ]
  },
  {
   "cell_type": "code",
   "execution_count": 346,
   "id": "01fb1808",
   "metadata": {},
   "outputs": [
    {
     "data": {
      "text/html": [
       "<div>\n",
       "<style scoped>\n",
       "    .dataframe tbody tr th:only-of-type {\n",
       "        vertical-align: middle;\n",
       "    }\n",
       "\n",
       "    .dataframe tbody tr th {\n",
       "        vertical-align: top;\n",
       "    }\n",
       "\n",
       "    .dataframe thead th {\n",
       "        text-align: right;\n",
       "    }\n",
       "</style>\n",
       "<table border=\"1\" class=\"dataframe\">\n",
       "  <thead>\n",
       "    <tr style=\"text-align: right;\">\n",
       "      <th></th>\n",
       "      <th>CustomerID</th>\n",
       "      <th>LastPurshaceDate</th>\n",
       "    </tr>\n",
       "  </thead>\n",
       "  <tbody>\n",
       "    <tr>\n",
       "      <th>0</th>\n",
       "      <td>12747.0</td>\n",
       "      <td>2015-12-19</td>\n",
       "    </tr>\n",
       "    <tr>\n",
       "      <th>1</th>\n",
       "      <td>12748.0</td>\n",
       "      <td>2015-12-31</td>\n",
       "    </tr>\n",
       "    <tr>\n",
       "      <th>2</th>\n",
       "      <td>12826.0</td>\n",
       "      <td>2012-08-31</td>\n",
       "    </tr>\n",
       "    <tr>\n",
       "      <th>3</th>\n",
       "      <td>12829.0</td>\n",
       "      <td>2015-10-31</td>\n",
       "    </tr>\n",
       "    <tr>\n",
       "      <th>4</th>\n",
       "      <td>12838.0</td>\n",
       "      <td>2014-04-19</td>\n",
       "    </tr>\n",
       "  </tbody>\n",
       "</table>\n",
       "</div>"
      ],
      "text/plain": [
       "   CustomerID LastPurshaceDate\n",
       "0     12747.0       2015-12-19\n",
       "1     12748.0       2015-12-31\n",
       "2     12826.0       2012-08-31\n",
       "3     12829.0       2015-10-31\n",
       "4     12838.0       2014-04-19"
      ]
     },
     "execution_count": 346,
     "metadata": {},
     "output_type": "execute_result"
    }
   ],
   "source": [
    "recency= df_new.groupby(by='CustomerID', as_index=False)['InvoiceDate'].max()\n",
    "recency.columns = ['CustomerID','LastPurshaceDate']\n",
    "recency.head()"
   ]
  },
  {
   "cell_type": "code",
   "execution_count": 347,
   "id": "fee623cd",
   "metadata": {},
   "outputs": [],
   "source": [
    "import datetime as dt\n",
    "present = dt.date(2016,1,1)"
   ]
  },
  {
   "cell_type": "code",
   "execution_count": 348,
   "id": "0f4056ac",
   "metadata": {},
   "outputs": [
    {
     "data": {
      "text/plain": [
       "Index(['CustomerID', 'LastPurshaceDate'], dtype='object')"
      ]
     },
     "execution_count": 348,
     "metadata": {},
     "output_type": "execute_result"
    }
   ],
   "source": [
    "recency.columns"
   ]
  },
  {
   "cell_type": "code",
   "execution_count": 349,
   "id": "00d3a061",
   "metadata": {},
   "outputs": [],
   "source": [
    "#calculate recency in days\n",
    "recency['Recency'] =recency['LastPurshaceDate'].apply(lambda x: (present- x).days)"
   ]
  },
  {
   "cell_type": "code",
   "execution_count": 350,
   "id": "0b813308",
   "metadata": {},
   "outputs": [
    {
     "data": {
      "text/html": [
       "<div>\n",
       "<style scoped>\n",
       "    .dataframe tbody tr th:only-of-type {\n",
       "        vertical-align: middle;\n",
       "    }\n",
       "\n",
       "    .dataframe tbody tr th {\n",
       "        vertical-align: top;\n",
       "    }\n",
       "\n",
       "    .dataframe thead th {\n",
       "        text-align: right;\n",
       "    }\n",
       "</style>\n",
       "<table border=\"1\" class=\"dataframe\">\n",
       "  <thead>\n",
       "    <tr style=\"text-align: right;\">\n",
       "      <th></th>\n",
       "      <th>Recency</th>\n",
       "      <th>CustomerID</th>\n",
       "    </tr>\n",
       "  </thead>\n",
       "  <tbody>\n",
       "    <tr>\n",
       "      <th>0</th>\n",
       "      <td>13</td>\n",
       "      <td>12747.0</td>\n",
       "    </tr>\n",
       "    <tr>\n",
       "      <th>1</th>\n",
       "      <td>1</td>\n",
       "      <td>12748.0</td>\n",
       "    </tr>\n",
       "    <tr>\n",
       "      <th>2</th>\n",
       "      <td>1218</td>\n",
       "      <td>12826.0</td>\n",
       "    </tr>\n",
       "    <tr>\n",
       "      <th>3</th>\n",
       "      <td>62</td>\n",
       "      <td>12829.0</td>\n",
       "    </tr>\n",
       "    <tr>\n",
       "      <th>4</th>\n",
       "      <td>622</td>\n",
       "      <td>12838.0</td>\n",
       "    </tr>\n",
       "  </tbody>\n",
       "</table>\n",
       "</div>"
      ],
      "text/plain": [
       "   Recency  CustomerID\n",
       "0       13     12747.0\n",
       "1        1     12748.0\n",
       "2     1218     12826.0\n",
       "3       62     12829.0\n",
       "4      622     12838.0"
      ]
     },
     "execution_count": 350,
     "metadata": {},
     "output_type": "execute_result"
    }
   ],
   "source": [
    "recency[['Recency','CustomerID']].head()"
   ]
  },
  {
   "cell_type": "code",
   "execution_count": 351,
   "id": "bccc7bf6",
   "metadata": {},
   "outputs": [
    {
     "data": {
      "text/plain": [
       "Index(['CustomerID', 'LastPurshaceDate', 'Recency'], dtype='object')"
      ]
     },
     "execution_count": 351,
     "metadata": {},
     "output_type": "execute_result"
    }
   ],
   "source": [
    "recency.columns"
   ]
  },
  {
   "cell_type": "code",
   "execution_count": 352,
   "id": "bc98b153",
   "metadata": {},
   "outputs": [],
   "source": [
    "#Dropping LastPurchaseDate as we don't need it anymore\n",
    "recency.drop(['LastPurshaceDate'],axis=1,inplace=True)"
   ]
  },
  {
   "cell_type": "code",
   "execution_count": 353,
   "id": "4f977ed6",
   "metadata": {},
   "outputs": [
    {
     "data": {
      "text/plain": [
       "<AxesSubplot: xlabel='Recency', ylabel='Count'>"
      ]
     },
     "execution_count": 353,
     "metadata": {},
     "output_type": "execute_result"
    },
    {
     "data": {
      "image/png": "[encoded data removed]",
      "text/plain": [
       "<Figure size 800x500 with 1 Axes>"
      ]
     },
     "metadata": {},
     "output_type": "display_data"
    }
   ],
   "source": [
    "plt.figure(figsize=(8,5))\n",
    "sns.histplot(recency.Recency,bins=8)"
   ]
  },
  {
   "cell_type": "markdown",
   "id": "4075977a",
   "metadata": {},
   "source": [
    "We can obsereve that there are quite few customers who have visited the store beyond 1.5 yrs and has not come back."
   ]
  },
  {
   "cell_type": "markdown",
   "id": "cc5fce1e",
   "metadata": {},
   "source": [
    "# Frequency"
   ]
  },
  {
   "cell_type": "code",
   "execution_count": 354,
   "id": "943379ed",
   "metadata": {},
   "outputs": [
    {
     "data": {
      "text/html": [
       "<div>\n",
       "<style scoped>\n",
       "    .dataframe tbody tr th:only-of-type {\n",
       "        vertical-align: middle;\n",
       "    }\n",
       "\n",
       "    .dataframe tbody tr th {\n",
       "        vertical-align: top;\n",
       "    }\n",
       "\n",
       "    .dataframe thead th {\n",
       "        text-align: right;\n",
       "    }\n",
       "</style>\n",
       "<table border=\"1\" class=\"dataframe\">\n",
       "  <thead>\n",
       "    <tr style=\"text-align: right;\">\n",
       "      <th></th>\n",
       "      <th>CustomerID</th>\n",
       "      <th>Frequency</th>\n",
       "    </tr>\n",
       "  </thead>\n",
       "  <tbody>\n",
       "    <tr>\n",
       "      <th>0</th>\n",
       "      <td>12747.0</td>\n",
       "      <td>2</td>\n",
       "    </tr>\n",
       "    <tr>\n",
       "      <th>1</th>\n",
       "      <td>12748.0</td>\n",
       "      <td>37</td>\n",
       "    </tr>\n",
       "    <tr>\n",
       "      <th>2</th>\n",
       "      <td>12826.0</td>\n",
       "      <td>1</td>\n",
       "    </tr>\n",
       "    <tr>\n",
       "      <th>3</th>\n",
       "      <td>12829.0</td>\n",
       "      <td>2</td>\n",
       "    </tr>\n",
       "    <tr>\n",
       "      <th>4</th>\n",
       "      <td>12838.0</td>\n",
       "      <td>1</td>\n",
       "    </tr>\n",
       "  </tbody>\n",
       "</table>\n",
       "</div>"
      ],
      "text/plain": [
       "   CustomerID  Frequency\n",
       "0     12747.0          2\n",
       "1     12748.0         37\n",
       "2     12826.0          1\n",
       "3     12829.0          2\n",
       "4     12838.0          1"
      ]
     },
     "execution_count": 354,
     "metadata": {},
     "output_type": "execute_result"
    }
   ],
   "source": [
    "df_new.drop_duplicates(subset=['InvoiceNo', 'CustomerID'], keep=\"first\", inplace=True)\n",
    "frequency = df_new.groupby(by=['CustomerID'], as_index=False)['InvoiceNo'].count()\n",
    "frequency.columns = ['CustomerID','Frequency']\n",
    "frequency.head()"
   ]
  },
  {
   "cell_type": "code",
   "execution_count": 355,
   "id": "744ec4a7",
   "metadata": {},
   "outputs": [
    {
     "data": {
      "text/plain": [
       "<AxesSubplot: xlabel='Frequency', ylabel='Count'>"
      ]
     },
     "execution_count": 355,
     "metadata": {},
     "output_type": "execute_result"
    },
    {
     "data": {
      "image/png": "[encoded data removed]",
      "text/plain": [
       "<Figure size 800x400 with 1 Axes>"
      ]
     },
     "metadata": {},
     "output_type": "display_data"
    }
   ],
   "source": [
    "plt.figure(figsize=(8,4))\n",
    "sns.histplot(frequency['Frequency'],bins=40)"
   ]
  },
  {
   "cell_type": "markdown",
   "id": "cb9d59ca",
   "metadata": {},
   "source": [
    "We can see from the above graph that most of the customers are frequent visitors to the store."
   ]
  },
  {
   "cell_type": "code",
   "execution_count": 356,
   "id": "e980ce85",
   "metadata": {},
   "outputs": [
    {
     "data": {
      "text/html": [
       "<div>\n",
       "<style scoped>\n",
       "    .dataframe tbody tr th:only-of-type {\n",
       "        vertical-align: middle;\n",
       "    }\n",
       "\n",
       "    .dataframe tbody tr th {\n",
       "        vertical-align: top;\n",
       "    }\n",
       "\n",
       "    .dataframe thead th {\n",
       "        text-align: right;\n",
       "    }\n",
       "</style>\n",
       "<table border=\"1\" class=\"dataframe\">\n",
       "  <thead>\n",
       "    <tr style=\"text-align: right;\">\n",
       "      <th></th>\n",
       "      <th>CustomerID</th>\n",
       "      <th>Frequency</th>\n",
       "    </tr>\n",
       "  </thead>\n",
       "  <tbody>\n",
       "    <tr>\n",
       "      <th>0</th>\n",
       "      <td>12747.0</td>\n",
       "      <td>2</td>\n",
       "    </tr>\n",
       "    <tr>\n",
       "      <th>1</th>\n",
       "      <td>12748.0</td>\n",
       "      <td>37</td>\n",
       "    </tr>\n",
       "    <tr>\n",
       "      <th>2</th>\n",
       "      <td>12826.0</td>\n",
       "      <td>1</td>\n",
       "    </tr>\n",
       "    <tr>\n",
       "      <th>3</th>\n",
       "      <td>12829.0</td>\n",
       "      <td>2</td>\n",
       "    </tr>\n",
       "    <tr>\n",
       "      <th>4</th>\n",
       "      <td>12838.0</td>\n",
       "      <td>1</td>\n",
       "    </tr>\n",
       "  </tbody>\n",
       "</table>\n",
       "</div>"
      ],
      "text/plain": [
       "   CustomerID  Frequency\n",
       "0     12747.0          2\n",
       "1     12748.0         37\n",
       "2     12826.0          1\n",
       "3     12829.0          2\n",
       "4     12838.0          1"
      ]
     },
     "execution_count": 356,
     "metadata": {},
     "output_type": "execute_result"
    }
   ],
   "source": [
    "frequency[['CustomerID','Frequency']].head(5)"
   ]
  },
  {
   "cell_type": "markdown",
   "id": "9ecdb7f7",
   "metadata": {},
   "source": [
    "# Monetary"
   ]
  },
  {
   "cell_type": "code",
   "execution_count": 357,
   "id": "bb5b8f8b",
   "metadata": {},
   "outputs": [],
   "source": [
    "df_new['TotalCost'] = df_new['Quantity'] * df_new['UnitPrice']"
   ]
  },
  {
   "cell_type": "code",
   "execution_count": 358,
   "id": "58445f72",
   "metadata": {},
   "outputs": [
    {
     "data": {
      "text/html": [
       "<div>\n",
       "<style scoped>\n",
       "    .dataframe tbody tr th:only-of-type {\n",
       "        vertical-align: middle;\n",
       "    }\n",
       "\n",
       "    .dataframe tbody tr th {\n",
       "        vertical-align: top;\n",
       "    }\n",
       "\n",
       "    .dataframe thead th {\n",
       "        text-align: right;\n",
       "    }\n",
       "</style>\n",
       "<table border=\"1\" class=\"dataframe\">\n",
       "  <thead>\n",
       "    <tr style=\"text-align: right;\">\n",
       "      <th></th>\n",
       "      <th>CustomerID</th>\n",
       "      <th>Monetary</th>\n",
       "    </tr>\n",
       "  </thead>\n",
       "  <tbody>\n",
       "    <tr>\n",
       "      <th>0</th>\n",
       "      <td>12747.0</td>\n",
       "      <td>62.900000</td>\n",
       "    </tr>\n",
       "    <tr>\n",
       "      <th>1</th>\n",
       "      <td>12748.0</td>\n",
       "      <td>12.884595</td>\n",
       "    </tr>\n",
       "    <tr>\n",
       "      <th>2</th>\n",
       "      <td>12826.0</td>\n",
       "      <td>17.700000</td>\n",
       "    </tr>\n",
       "    <tr>\n",
       "      <th>3</th>\n",
       "      <td>12829.0</td>\n",
       "      <td>47.900000</td>\n",
       "    </tr>\n",
       "    <tr>\n",
       "      <th>4</th>\n",
       "      <td>12838.0</td>\n",
       "      <td>5.500000</td>\n",
       "    </tr>\n",
       "  </tbody>\n",
       "</table>\n",
       "</div>"
      ],
      "text/plain": [
       "   CustomerID   Monetary\n",
       "0     12747.0  62.900000\n",
       "1     12748.0  12.884595\n",
       "2     12826.0  17.700000\n",
       "3     12829.0  47.900000\n",
       "4     12838.0   5.500000"
      ]
     },
     "execution_count": 358,
     "metadata": {},
     "output_type": "execute_result"
    }
   ],
   "source": [
    "monetary =df_new.groupby(by='CustomerID',as_index=False).agg({'TotalCost': 'mean'})\n",
    "monetary.columns = ['CustomerID','Monetary']\n",
    "monetary.head()"
   ]
  },
  {
   "cell_type": "code",
   "execution_count": 359,
   "id": "79b96c70",
   "metadata": {},
   "outputs": [
    {
     "data": {
      "text/plain": [
       "<AxesSubplot: xlabel='Monetary', ylabel='Count'>"
      ]
     },
     "execution_count": 359,
     "metadata": {},
     "output_type": "execute_result"
    },
    {
     "data": {
      "image/png": "[encoded data removed]",
      "text/plain": [
       "<Figure size 800x500 with 1 Axes>"
      ]
     },
     "metadata": {},
     "output_type": "display_data"
    }
   ],
   "source": [
    "plt.figure(figsize=(8,5))\n",
    "sns.histplot(monetary['Monetary'],bins=30)"
   ]
  },
  {
   "cell_type": "markdown",
   "id": "b8997ac3",
   "metadata": {},
   "source": [
    "We can see from the above graph that high bill value customers are quite less."
   ]
  },
  {
   "cell_type": "markdown",
   "id": "762ba66e",
   "metadata": {},
   "source": [
    "# Lets see how RFM works with Date Field and if we can find any interesting facts"
   ]
  },
  {
   "cell_type": "code",
   "execution_count": 360,
   "id": "5fe0dcd3",
   "metadata": {},
   "outputs": [],
   "source": [
    "df1=recency.merge(frequency,on='CustomerID')"
   ]
  },
  {
   "cell_type": "code",
   "execution_count": 361,
   "id": "a819b7d3",
   "metadata": {},
   "outputs": [],
   "source": [
    "df2=monetary.merge(df1,on='CustomerID')"
   ]
  },
  {
   "cell_type": "code",
   "execution_count": 362,
   "id": "cc5c9d33",
   "metadata": {},
   "outputs": [
    {
     "data": {
      "text/html": [
       "<div>\n",
       "<style scoped>\n",
       "    .dataframe tbody tr th:only-of-type {\n",
       "        vertical-align: middle;\n",
       "    }\n",
       "\n",
       "    .dataframe tbody tr th {\n",
       "        vertical-align: top;\n",
       "    }\n",
       "\n",
       "    .dataframe thead th {\n",
       "        text-align: right;\n",
       "    }\n",
       "</style>\n",
       "<table border=\"1\" class=\"dataframe\">\n",
       "  <thead>\n",
       "    <tr style=\"text-align: right;\">\n",
       "      <th></th>\n",
       "      <th>CustomerID</th>\n",
       "      <th>Monetary</th>\n",
       "      <th>Recency</th>\n",
       "      <th>Frequency</th>\n",
       "    </tr>\n",
       "  </thead>\n",
       "  <tbody>\n",
       "    <tr>\n",
       "      <th>0</th>\n",
       "      <td>12747.0</td>\n",
       "      <td>62.900000</td>\n",
       "      <td>13</td>\n",
       "      <td>2</td>\n",
       "    </tr>\n",
       "    <tr>\n",
       "      <th>1</th>\n",
       "      <td>12748.0</td>\n",
       "      <td>12.884595</td>\n",
       "      <td>1</td>\n",
       "      <td>37</td>\n",
       "    </tr>\n",
       "    <tr>\n",
       "      <th>2</th>\n",
       "      <td>12826.0</td>\n",
       "      <td>17.700000</td>\n",
       "      <td>1218</td>\n",
       "      <td>1</td>\n",
       "    </tr>\n",
       "    <tr>\n",
       "      <th>3</th>\n",
       "      <td>12829.0</td>\n",
       "      <td>47.900000</td>\n",
       "      <td>62</td>\n",
       "      <td>2</td>\n",
       "    </tr>\n",
       "    <tr>\n",
       "      <th>4</th>\n",
       "      <td>12838.0</td>\n",
       "      <td>5.500000</td>\n",
       "      <td>622</td>\n",
       "      <td>1</td>\n",
       "    </tr>\n",
       "  </tbody>\n",
       "</table>\n",
       "</div>"
      ],
      "text/plain": [
       "   CustomerID   Monetary  Recency  Frequency\n",
       "0     12747.0  62.900000       13          2\n",
       "1     12748.0  12.884595        1         37\n",
       "2     12826.0  17.700000     1218          1\n",
       "3     12829.0  47.900000       62          2\n",
       "4     12838.0   5.500000      622          1"
      ]
     },
     "execution_count": 362,
     "metadata": {},
     "output_type": "execute_result"
    }
   ],
   "source": [
    "df2.head()"
   ]
  },
  {
   "cell_type": "code",
   "execution_count": 363,
   "id": "30235b1f",
   "metadata": {},
   "outputs": [],
   "source": [
    "df3=df2.merge(df_new,on='CustomerID',how='outer')"
   ]
  },
  {
   "cell_type": "code",
   "execution_count": 364,
   "id": "aa3df5e7",
   "metadata": {},
   "outputs": [
    {
     "data": {
      "text/plain": [
       "Index(['CustomerID', 'Monetary', 'Recency', 'Frequency', 'InvoiceNo',\n",
       "       'StockCode', 'Description', 'Quantity', 'InvoiceDate', 'UnitPrice',\n",
       "       'month', 'year', 'TotalCost'],\n",
       "      dtype='object')"
      ]
     },
     "execution_count": 364,
     "metadata": {},
     "output_type": "execute_result"
    }
   ],
   "source": [
    "df3.columns"
   ]
  },
  {
   "cell_type": "code",
   "execution_count": 365,
   "id": "d7ba6e9d",
   "metadata": {},
   "outputs": [
    {
     "data": {
      "text/plain": [
       "<AxesSubplot: xlabel='month', ylabel='Frequency'>"
      ]
     },
     "execution_count": 365,
     "metadata": {},
     "output_type": "execute_result"
    },
    {
     "data": {
      "image/png": "[encoded data removed]",
      "text/plain": [
       "<Figure size 640x480 with 1 Axes>"
      ]
     },
     "metadata": {},
     "output_type": "display_data"
    }
   ],
   "source": [
    "sns.barplot(data=df3,x='month',y='Frequency',ci=None)"
   ]
  },
  {
   "cell_type": "markdown",
   "id": "7bde7c88",
   "metadata": {},
   "source": [
    "From the above chart we could see, in the month of August have higest frequency than other months"
   ]
  },
  {
   "cell_type": "code",
   "execution_count": 366,
   "id": "5cc4aaf4",
   "metadata": {},
   "outputs": [
    {
     "data": {
      "text/plain": [
       "<AxesSubplot: xlabel='month', ylabel='Monetary'>"
      ]
     },
     "execution_count": 366,
     "metadata": {},
     "output_type": "execute_result"
    },
    {
     "data": {
      "image/png": "[encoded data removed]",
      "text/plain": [
       "<Figure size 640x480 with 1 Axes>"
      ]
     },
     "metadata": {},
     "output_type": "display_data"
    }
   ],
   "source": [
    "sns.barplot(data=df3,x='month',y='Monetary',ci=None)"
   ]
  },
  {
   "cell_type": "markdown",
   "id": "cf98e182",
   "metadata": {},
   "source": [
    "In the month of Jan and February customer spent more."
   ]
  },
  {
   "cell_type": "code",
   "execution_count": 367,
   "id": "696ccaec",
   "metadata": {},
   "outputs": [],
   "source": [
    "df3['weekday'] = pd.to_datetime(df3['InvoiceDate']).dt.dayofweek\n",
    "df3['weekend'] = df3['weekday'].isin([5,6])"
   ]
  },
  {
   "cell_type": "code",
   "execution_count": 368,
   "id": "120d0c9e",
   "metadata": {},
   "outputs": [
    {
     "data": {
      "text/plain": [
       "array([5, 2, 4, 3, 6, 1, 0], dtype=int64)"
      ]
     },
     "execution_count": 368,
     "metadata": {},
     "output_type": "execute_result"
    }
   ],
   "source": [
    "df3['weekday'].unique()"
   ]
  },
  {
   "cell_type": "code",
   "execution_count": 369,
   "id": "69f9b731",
   "metadata": {},
   "outputs": [
    {
     "data": {
      "text/plain": [
       "array([ True, False])"
      ]
     },
     "execution_count": 369,
     "metadata": {},
     "output_type": "execute_result"
    }
   ],
   "source": [
    "df3['weekend'].unique()"
   ]
  },
  {
   "cell_type": "code",
   "execution_count": 370,
   "id": "46c1a63b",
   "metadata": {},
   "outputs": [
    {
     "data": {
      "text/plain": [
       "<AxesSubplot: xlabel='weekend', ylabel='Monetary'>"
      ]
     },
     "execution_count": 370,
     "metadata": {},
     "output_type": "execute_result"
    },
    {
     "data": {
      "image/png": "[encoded data removed]",
      "text/plain": [
       "<Figure size 640x480 with 1 Axes>"
      ]
     },
     "metadata": {},
     "output_type": "display_data"
    }
   ],
   "source": [
    "sns.barplot(x=df3['weekend'],y=df3['Monetary'], ci=False)"
   ]
  },
  {
   "cell_type": "code",
   "execution_count": 371,
   "id": "00689423",
   "metadata": {},
   "outputs": [
    {
     "name": "stdout",
     "output_type": "stream",
     "text": [
      "Mean Monetary value (Weekdays): 60.30900385119609\n",
      "Mean Monetary value (Weekends): 53.727574294615906\n"
     ]
    }
   ],
   "source": [
    "weekday_monetary = df3.loc[df3['weekday'].isin([0, 1, 2, 3, 4]), 'Monetary']\n",
    "weekend_monetary = df3.loc[df3['weekday'].isin([5, 6]), 'Monetary']\n",
    "print(\"Mean Monetary value (Weekdays):\", weekday_monetary.mean())\n",
    "print(\"Mean Monetary value (Weekends):\", weekend_monetary.mean())"
   ]
  },
  {
   "cell_type": "markdown",
   "id": "b5458d12",
   "metadata": {},
   "source": [
    "People on average spent more on weekdays more than weekend"
   ]
  },
  {
   "cell_type": "code",
   "execution_count": 372,
   "id": "869f6378",
   "metadata": {},
   "outputs": [
    {
     "data": {
      "text/plain": [
       "<AxesSubplot: xlabel='weekend', ylabel='Frequency'>"
      ]
     },
     "execution_count": 372,
     "metadata": {},
     "output_type": "execute_result"
    },
    {
     "data": {
      "image/png": "[encoded data removed]",
      "text/plain": [
       "<Figure size 640x480 with 1 Axes>"
      ]
     },
     "metadata": {},
     "output_type": "display_data"
    }
   ],
   "source": [
    "sns.barplot(x=df3['weekend'],y=df3['Frequency'],ci=False)"
   ]
  },
  {
   "cell_type": "code",
   "execution_count": 373,
   "id": "60e27ea2",
   "metadata": {},
   "outputs": [
    {
     "data": {
      "text/plain": [
       "<AxesSubplot: xlabel='weekday', ylabel='Monetary'>"
      ]
     },
     "execution_count": 373,
     "metadata": {},
     "output_type": "execute_result"
    },
    {
     "data": {
      "image/png": "[encoded data removed]",
      "text/plain": [
       "<Figure size 640x480 with 1 Axes>"
      ]
     },
     "metadata": {},
     "output_type": "display_data"
    }
   ],
   "source": [
    "sns.barplot(x=df3['weekday'],y=df3['Monetary'],ci=False)"
   ]
  },
  {
   "cell_type": "code",
   "execution_count": 374,
   "id": "0d000a7b",
   "metadata": {},
   "outputs": [
    {
     "name": "stdout",
     "output_type": "stream",
     "text": [
      "weekday\n",
      "0    85.629343\n",
      "1    50.688898\n",
      "2    64.764324\n",
      "3    48.022040\n",
      "4    66.244796\n",
      "5    53.800659\n",
      "6    53.332254\n",
      "Name: Monetary, dtype: float64\n"
     ]
    }
   ],
   "source": [
    "weekday_monetary_mean = df3.groupby('weekday')['Monetary'].mean()\n",
    "print(weekday_monetary_mean)"
   ]
  },
  {
   "cell_type": "markdown",
   "id": "938fd190",
   "metadata": {},
   "source": [
    "Customers on an avgerage spent more on Monday."
   ]
  },
  {
   "cell_type": "code",
   "execution_count": 375,
   "id": "3d8160b7",
   "metadata": {},
   "outputs": [
    {
     "data": {
      "text/plain": [
       "<AxesSubplot: xlabel='weekday', ylabel='Frequency'>"
      ]
     },
     "execution_count": 375,
     "metadata": {},
     "output_type": "execute_result"
    },
    {
     "data": {
      "image/png": "[encoded data removed]",
      "text/plain": [
       "<Figure size 640x480 with 1 Axes>"
      ]
     },
     "metadata": {},
     "output_type": "display_data"
    }
   ],
   "source": [
    "sns.barplot(x=df3['weekday'],y=df3['Frequency'],ci=False)"
   ]
  },
  {
   "cell_type": "code",
   "execution_count": 376,
   "id": "f4e23cdd",
   "metadata": {},
   "outputs": [
    {
     "name": "stdout",
     "output_type": "stream",
     "text": [
      "weekday\n",
      "0    2.615385\n",
      "1    2.625731\n",
      "2    3.643805\n",
      "3    4.621324\n",
      "4    4.707692\n",
      "5    4.794118\n",
      "6    5.022727\n",
      "Name: Frequency, dtype: float64\n"
     ]
    }
   ],
   "source": [
    "weekday_frequency_mean = df3.groupby('weekday')['Frequency'].mean()\n",
    "print(weekday_frequency_mean)\n"
   ]
  },
  {
   "cell_type": "markdown",
   "id": "8b33ec24",
   "metadata": {},
   "source": [
    "People visting the store are more on Weekends."
   ]
  },
  {
   "cell_type": "markdown",
   "id": "0452cf78",
   "metadata": {},
   "source": [
    "# Relationship with Recency,Frequency,Monetary"
   ]
  },
  {
   "cell_type": "code",
   "execution_count": 377,
   "id": "210efa35",
   "metadata": {},
   "outputs": [
    {
     "data": {
      "text/plain": [
       "<AxesSubplot: xlabel='Recency', ylabel='Frequency'>"
      ]
     },
     "execution_count": 377,
     "metadata": {},
     "output_type": "execute_result"
    },
    {
     "data": {
      "image/png": "[encoded data removed]",
      "text/plain": [
       "<Figure size 640x480 with 1 Axes>"
      ]
     },
     "metadata": {},
     "output_type": "display_data"
    }
   ],
   "source": [
    "sns.scatterplot(df2,x='Recency',y='Frequency')"
   ]
  },
  {
   "cell_type": "markdown",
   "id": "0347fb63",
   "metadata": {},
   "source": [
    "From the above chart we could infer that recent visitors are more frequent buyers."
   ]
  },
  {
   "cell_type": "code",
   "execution_count": 378,
   "id": "6b570a01",
   "metadata": {},
   "outputs": [
    {
     "data": {
      "text/plain": [
       "<AxesSubplot: xlabel='Frequency', ylabel='Monetary'>"
      ]
     },
     "execution_count": 378,
     "metadata": {},
     "output_type": "execute_result"
    },
    {
     "data": {
      "image/png": "[encoded data removed]",
      "text/plain": [
       "<Figure size 640x480 with 1 Axes>"
      ]
     },
     "metadata": {},
     "output_type": "display_data"
    }
   ],
   "source": [
    "sns.scatterplot(df2,x='Frequency',y='Monetary')"
   ]
  },
  {
   "cell_type": "markdown",
   "id": "95e8e268",
   "metadata": {},
   "source": [
    "From the above chart we could infer that less frequent people spent more monetary value."
   ]
  },
  {
   "cell_type": "code",
   "execution_count": 379,
   "id": "9f0d3bdf",
   "metadata": {
    "scrolled": false
   },
   "outputs": [
    {
     "data": {
      "text/plain": [
       "<AxesSubplot: xlabel='Recency', ylabel='Monetary'>"
      ]
     },
     "execution_count": 379,
     "metadata": {},
     "output_type": "execute_result"
    },
    {
     "data": {
      "image/png": "[encoded data removed]",
      "text/plain": [
       "<Figure size 640x480 with 1 Axes>"
      ]
     },
     "metadata": {},
     "output_type": "display_data"
    }
   ],
   "source": [
    "sns.scatterplot(df2,x='Recency',y='Monetary')"
   ]
  },
  {
   "cell_type": "markdown",
   "id": "7603e2d8",
   "metadata": {},
   "source": [
    "# Recency Bucket"
   ]
  },
  {
   "cell_type": "code",
   "execution_count": 380,
   "id": "01cbc6b1",
   "metadata": {},
   "outputs": [
    {
     "name": "stdout",
     "output_type": "stream",
     "text": [
      "11.420000000000073\n",
      "320.52000000000044\n"
     ]
    }
   ],
   "source": [
    "percentiles = [ 0.33, 0.66]\n",
    "recency_percentiles = df2['Recency'].quantile(percentiles)\n",
    "print(recency_percentiles[0.33])\n",
    "print(recency_percentiles[0.66])"
   ]
  },
  {
   "cell_type": "code",
   "execution_count": 381,
   "id": "1ac3bc1e",
   "metadata": {},
   "outputs": [],
   "source": [
    "def R_Score(x):\n",
    "    if x['Recency'] <=11:\n",
    "        recency = 3\n",
    "    elif x['Recency'] >11  and x['Recency'] <=321:\n",
    "        recency = 2 \n",
    "    else:\n",
    "        recency = 1\n",
    "    return recency"
   ]
  },
  {
   "cell_type": "code",
   "execution_count": 382,
   "id": "d6afd014",
   "metadata": {},
   "outputs": [],
   "source": [
    "df2['R_Score'] = df2.apply(R_Score,axis=1)"
   ]
  },
  {
   "cell_type": "code",
   "execution_count": 383,
   "id": "f2920b7d",
   "metadata": {},
   "outputs": [
    {
     "data": {
      "text/html": [
       "<div>\n",
       "<style scoped>\n",
       "    .dataframe tbody tr th:only-of-type {\n",
       "        vertical-align: middle;\n",
       "    }\n",
       "\n",
       "    .dataframe tbody tr th {\n",
       "        vertical-align: top;\n",
       "    }\n",
       "\n",
       "    .dataframe thead th {\n",
       "        text-align: right;\n",
       "    }\n",
       "</style>\n",
       "<table border=\"1\" class=\"dataframe\">\n",
       "  <thead>\n",
       "    <tr style=\"text-align: right;\">\n",
       "      <th></th>\n",
       "      <th>CustomerID</th>\n",
       "      <th>Monetary</th>\n",
       "      <th>Recency</th>\n",
       "      <th>Frequency</th>\n",
       "      <th>R_Score</th>\n",
       "    </tr>\n",
       "  </thead>\n",
       "  <tbody>\n",
       "    <tr>\n",
       "      <th>0</th>\n",
       "      <td>12747.0</td>\n",
       "      <td>62.900000</td>\n",
       "      <td>13</td>\n",
       "      <td>2</td>\n",
       "      <td>2</td>\n",
       "    </tr>\n",
       "    <tr>\n",
       "      <th>1</th>\n",
       "      <td>12748.0</td>\n",
       "      <td>12.884595</td>\n",
       "      <td>1</td>\n",
       "      <td>37</td>\n",
       "      <td>3</td>\n",
       "    </tr>\n",
       "    <tr>\n",
       "      <th>2</th>\n",
       "      <td>12826.0</td>\n",
       "      <td>17.700000</td>\n",
       "      <td>1218</td>\n",
       "      <td>1</td>\n",
       "      <td>1</td>\n",
       "    </tr>\n",
       "    <tr>\n",
       "      <th>3</th>\n",
       "      <td>12829.0</td>\n",
       "      <td>47.900000</td>\n",
       "      <td>62</td>\n",
       "      <td>2</td>\n",
       "      <td>2</td>\n",
       "    </tr>\n",
       "    <tr>\n",
       "      <th>4</th>\n",
       "      <td>12838.0</td>\n",
       "      <td>5.500000</td>\n",
       "      <td>622</td>\n",
       "      <td>1</td>\n",
       "      <td>1</td>\n",
       "    </tr>\n",
       "  </tbody>\n",
       "</table>\n",
       "</div>"
      ],
      "text/plain": [
       "   CustomerID   Monetary  Recency  Frequency  R_Score\n",
       "0     12747.0  62.900000       13          2        2\n",
       "1     12748.0  12.884595        1         37        3\n",
       "2     12826.0  17.700000     1218          1        1\n",
       "3     12829.0  47.900000       62          2        2\n",
       "4     12838.0   5.500000      622          1        1"
      ]
     },
     "execution_count": 383,
     "metadata": {},
     "output_type": "execute_result"
    }
   ],
   "source": [
    "df2.head()"
   ]
  },
  {
   "cell_type": "code",
   "execution_count": 384,
   "id": "c8576ab9",
   "metadata": {},
   "outputs": [
    {
     "data": {
      "text/plain": [
       "array([2, 3, 1], dtype=int64)"
      ]
     },
     "execution_count": 384,
     "metadata": {},
     "output_type": "execute_result"
    }
   ],
   "source": [
    "df2['R_Score'].unique()"
   ]
  },
  {
   "cell_type": "markdown",
   "id": "15b28b24",
   "metadata": {},
   "source": [
    "# Frequency Bucket"
   ]
  },
  {
   "cell_type": "code",
   "execution_count": 385,
   "id": "5dbb5190",
   "metadata": {
    "scrolled": true
   },
   "outputs": [
    {
     "name": "stdout",
     "output_type": "stream",
     "text": [
      "1.0\n",
      "2.0\n"
     ]
    }
   ],
   "source": [
    "percentiles = [0.40, 0.80]\n",
    "Frequency_Percentile = df2['Frequency'].quantile(percentiles)\n",
    "print(Frequency_Percentile[0.40])\n",
    "print(Frequency_Percentile[0.80])"
   ]
  },
  {
   "cell_type": "code",
   "execution_count": 386,
   "id": "4e01805f",
   "metadata": {},
   "outputs": [],
   "source": [
    "def F_Score(x):\n",
    "    if x['Frequency'] <= 1:\n",
    "        frequency = 1\n",
    "    elif x['Frequency'] >1  and x['Frequency'] <= 2:\n",
    "        frequency = 2\n",
    "    else:\n",
    "        frequency = 3\n",
    "    return frequency"
   ]
  },
  {
   "cell_type": "code",
   "execution_count": 387,
   "id": "0fb5f221",
   "metadata": {},
   "outputs": [],
   "source": [
    "df2['F_Score'] = df2.apply(F_Score,axis=1)"
   ]
  },
  {
   "cell_type": "code",
   "execution_count": 388,
   "id": "3e216764",
   "metadata": {},
   "outputs": [
    {
     "data": {
      "text/html": [
       "<div>\n",
       "<style scoped>\n",
       "    .dataframe tbody tr th:only-of-type {\n",
       "        vertical-align: middle;\n",
       "    }\n",
       "\n",
       "    .dataframe tbody tr th {\n",
       "        vertical-align: top;\n",
       "    }\n",
       "\n",
       "    .dataframe thead th {\n",
       "        text-align: right;\n",
       "    }\n",
       "</style>\n",
       "<table border=\"1\" class=\"dataframe\">\n",
       "  <thead>\n",
       "    <tr style=\"text-align: right;\">\n",
       "      <th></th>\n",
       "      <th>CustomerID</th>\n",
       "      <th>R_Score</th>\n",
       "      <th>F_Score</th>\n",
       "    </tr>\n",
       "  </thead>\n",
       "  <tbody>\n",
       "    <tr>\n",
       "      <th>0</th>\n",
       "      <td>12747.0</td>\n",
       "      <td>2</td>\n",
       "      <td>2</td>\n",
       "    </tr>\n",
       "    <tr>\n",
       "      <th>1</th>\n",
       "      <td>12748.0</td>\n",
       "      <td>3</td>\n",
       "      <td>3</td>\n",
       "    </tr>\n",
       "    <tr>\n",
       "      <th>2</th>\n",
       "      <td>12826.0</td>\n",
       "      <td>1</td>\n",
       "      <td>1</td>\n",
       "    </tr>\n",
       "    <tr>\n",
       "      <th>3</th>\n",
       "      <td>12829.0</td>\n",
       "      <td>2</td>\n",
       "      <td>2</td>\n",
       "    </tr>\n",
       "    <tr>\n",
       "      <th>4</th>\n",
       "      <td>12838.0</td>\n",
       "      <td>1</td>\n",
       "      <td>1</td>\n",
       "    </tr>\n",
       "  </tbody>\n",
       "</table>\n",
       "</div>"
      ],
      "text/plain": [
       "   CustomerID  R_Score  F_Score\n",
       "0     12747.0        2        2\n",
       "1     12748.0        3        3\n",
       "2     12826.0        1        1\n",
       "3     12829.0        2        2\n",
       "4     12838.0        1        1"
      ]
     },
     "execution_count": 388,
     "metadata": {},
     "output_type": "execute_result"
    }
   ],
   "source": [
    "df2[['CustomerID','R_Score','F_Score']].head(5)"
   ]
  },
  {
   "cell_type": "markdown",
   "id": "4ffca4cd",
   "metadata": {},
   "source": [
    "# Monetary Bucket"
   ]
  },
  {
   "cell_type": "code",
   "execution_count": 389,
   "id": "e8a36cbb",
   "metadata": {},
   "outputs": [
    {
     "name": "stdout",
     "output_type": "stream",
     "text": [
      "13.200000000000001\n",
      "24.721000000000004\n"
     ]
    }
   ],
   "source": [
    "percentiles = [0.33,0.66]\n",
    "Monetary_Percentile = df2['Monetary'].quantile(percentiles)\n",
    "print(Monetary_Percentile[0.33])\n",
    "print(Monetary_Percentile[0.66])"
   ]
  },
  {
   "cell_type": "code",
   "execution_count": 390,
   "id": "6cf30b05",
   "metadata": {},
   "outputs": [],
   "source": [
    "def M_Score(x):\n",
    "    if x['Monetary'] <=13:\n",
    "        Monetary = 1\n",
    "    elif x['Monetary'] >13  and x['Monetary'] <=25:\n",
    "        Monetary = 2\n",
    "    else:\n",
    "        Monetary = 3\n",
    "    return Monetary"
   ]
  },
  {
   "cell_type": "code",
   "execution_count": 391,
   "id": "e913be6c",
   "metadata": {},
   "outputs": [],
   "source": [
    "df2['M_Score'] = df2.apply(M_Score,axis=1)"
   ]
  },
  {
   "cell_type": "code",
   "execution_count": 392,
   "id": "0c691ed8",
   "metadata": {},
   "outputs": [
    {
     "data": {
      "text/html": [
       "<div>\n",
       "<style scoped>\n",
       "    .dataframe tbody tr th:only-of-type {\n",
       "        vertical-align: middle;\n",
       "    }\n",
       "\n",
       "    .dataframe tbody tr th {\n",
       "        vertical-align: top;\n",
       "    }\n",
       "\n",
       "    .dataframe thead th {\n",
       "        text-align: right;\n",
       "    }\n",
       "</style>\n",
       "<table border=\"1\" class=\"dataframe\">\n",
       "  <thead>\n",
       "    <tr style=\"text-align: right;\">\n",
       "      <th></th>\n",
       "      <th>CustomerID</th>\n",
       "      <th>R_Score</th>\n",
       "      <th>F_Score</th>\n",
       "      <th>M_Score</th>\n",
       "    </tr>\n",
       "  </thead>\n",
       "  <tbody>\n",
       "    <tr>\n",
       "      <th>0</th>\n",
       "      <td>12747.0</td>\n",
       "      <td>2</td>\n",
       "      <td>2</td>\n",
       "      <td>3</td>\n",
       "    </tr>\n",
       "    <tr>\n",
       "      <th>1</th>\n",
       "      <td>12748.0</td>\n",
       "      <td>3</td>\n",
       "      <td>3</td>\n",
       "      <td>1</td>\n",
       "    </tr>\n",
       "    <tr>\n",
       "      <th>2</th>\n",
       "      <td>12826.0</td>\n",
       "      <td>1</td>\n",
       "      <td>1</td>\n",
       "      <td>2</td>\n",
       "    </tr>\n",
       "    <tr>\n",
       "      <th>3</th>\n",
       "      <td>12829.0</td>\n",
       "      <td>2</td>\n",
       "      <td>2</td>\n",
       "      <td>3</td>\n",
       "    </tr>\n",
       "    <tr>\n",
       "      <th>4</th>\n",
       "      <td>12838.0</td>\n",
       "      <td>1</td>\n",
       "      <td>1</td>\n",
       "      <td>1</td>\n",
       "    </tr>\n",
       "    <tr>\n",
       "      <th>5</th>\n",
       "      <td>12839.0</td>\n",
       "      <td>3</td>\n",
       "      <td>2</td>\n",
       "      <td>3</td>\n",
       "    </tr>\n",
       "    <tr>\n",
       "      <th>6</th>\n",
       "      <td>12841.0</td>\n",
       "      <td>3</td>\n",
       "      <td>3</td>\n",
       "      <td>1</td>\n",
       "    </tr>\n",
       "    <tr>\n",
       "      <th>7</th>\n",
       "      <td>12855.0</td>\n",
       "      <td>1</td>\n",
       "      <td>1</td>\n",
       "      <td>2</td>\n",
       "    </tr>\n",
       "    <tr>\n",
       "      <th>8</th>\n",
       "      <td>12867.0</td>\n",
       "      <td>2</td>\n",
       "      <td>1</td>\n",
       "      <td>1</td>\n",
       "    </tr>\n",
       "    <tr>\n",
       "      <th>9</th>\n",
       "      <td>12868.0</td>\n",
       "      <td>2</td>\n",
       "      <td>1</td>\n",
       "      <td>3</td>\n",
       "    </tr>\n",
       "    <tr>\n",
       "      <th>10</th>\n",
       "      <td>12872.0</td>\n",
       "      <td>1</td>\n",
       "      <td>1</td>\n",
       "      <td>3</td>\n",
       "    </tr>\n",
       "    <tr>\n",
       "      <th>11</th>\n",
       "      <td>12875.0</td>\n",
       "      <td>1</td>\n",
       "      <td>1</td>\n",
       "      <td>3</td>\n",
       "    </tr>\n",
       "    <tr>\n",
       "      <th>12</th>\n",
       "      <td>12877.0</td>\n",
       "      <td>2</td>\n",
       "      <td>1</td>\n",
       "      <td>2</td>\n",
       "    </tr>\n",
       "    <tr>\n",
       "      <th>13</th>\n",
       "      <td>12913.0</td>\n",
       "      <td>1</td>\n",
       "      <td>1</td>\n",
       "      <td>3</td>\n",
       "    </tr>\n",
       "    <tr>\n",
       "      <th>14</th>\n",
       "      <td>12915.0</td>\n",
       "      <td>3</td>\n",
       "      <td>1</td>\n",
       "      <td>2</td>\n",
       "    </tr>\n",
       "    <tr>\n",
       "      <th>15</th>\n",
       "      <td>12921.0</td>\n",
       "      <td>3</td>\n",
       "      <td>3</td>\n",
       "      <td>1</td>\n",
       "    </tr>\n",
       "    <tr>\n",
       "      <th>16</th>\n",
       "      <td>12928.0</td>\n",
       "      <td>1</td>\n",
       "      <td>1</td>\n",
       "      <td>1</td>\n",
       "    </tr>\n",
       "    <tr>\n",
       "      <th>17</th>\n",
       "      <td>12931.0</td>\n",
       "      <td>1</td>\n",
       "      <td>2</td>\n",
       "      <td>3</td>\n",
       "    </tr>\n",
       "    <tr>\n",
       "      <th>18</th>\n",
       "      <td>12939.0</td>\n",
       "      <td>1</td>\n",
       "      <td>1</td>\n",
       "      <td>3</td>\n",
       "    </tr>\n",
       "    <tr>\n",
       "      <th>19</th>\n",
       "      <td>12942.0</td>\n",
       "      <td>1</td>\n",
       "      <td>1</td>\n",
       "      <td>2</td>\n",
       "    </tr>\n",
       "  </tbody>\n",
       "</table>\n",
       "</div>"
      ],
      "text/plain": [
       "    CustomerID  R_Score  F_Score  M_Score\n",
       "0      12747.0        2        2        3\n",
       "1      12748.0        3        3        1\n",
       "2      12826.0        1        1        2\n",
       "3      12829.0        2        2        3\n",
       "4      12838.0        1        1        1\n",
       "5      12839.0        3        2        3\n",
       "6      12841.0        3        3        1\n",
       "7      12855.0        1        1        2\n",
       "8      12867.0        2        1        1\n",
       "9      12868.0        2        1        3\n",
       "10     12872.0        1        1        3\n",
       "11     12875.0        1        1        3\n",
       "12     12877.0        2        1        2\n",
       "13     12913.0        1        1        3\n",
       "14     12915.0        3        1        2\n",
       "15     12921.0        3        3        1\n",
       "16     12928.0        1        1        1\n",
       "17     12931.0        1        2        3\n",
       "18     12939.0        1        1        3\n",
       "19     12942.0        1        1        2"
      ]
     },
     "execution_count": 392,
     "metadata": {},
     "output_type": "execute_result"
    }
   ],
   "source": [
    "df2[['CustomerID','R_Score','F_Score','M_Score']].head(20)"
   ]
  },
  {
   "cell_type": "markdown",
   "id": "71ea2334",
   "metadata": {},
   "source": [
    "# RFM CALCULATION"
   ]
  },
  {
   "cell_type": "code",
   "execution_count": 393,
   "id": "08fadc9f",
   "metadata": {},
   "outputs": [
    {
     "data": {
      "text/html": [
       "<div>\n",
       "<style scoped>\n",
       "    .dataframe tbody tr th:only-of-type {\n",
       "        vertical-align: middle;\n",
       "    }\n",
       "\n",
       "    .dataframe tbody tr th {\n",
       "        vertical-align: top;\n",
       "    }\n",
       "\n",
       "    .dataframe thead th {\n",
       "        text-align: right;\n",
       "    }\n",
       "</style>\n",
       "<table border=\"1\" class=\"dataframe\">\n",
       "  <thead>\n",
       "    <tr style=\"text-align: right;\">\n",
       "      <th></th>\n",
       "      <th>CustomerID</th>\n",
       "      <th>Monetary</th>\n",
       "      <th>Recency</th>\n",
       "      <th>Frequency</th>\n",
       "      <th>R_Score</th>\n",
       "      <th>F_Score</th>\n",
       "      <th>M_Score</th>\n",
       "      <th>RFMScore</th>\n",
       "    </tr>\n",
       "  </thead>\n",
       "  <tbody>\n",
       "    <tr>\n",
       "      <th>0</th>\n",
       "      <td>12747.0</td>\n",
       "      <td>62.900000</td>\n",
       "      <td>13</td>\n",
       "      <td>2</td>\n",
       "      <td>2</td>\n",
       "      <td>2</td>\n",
       "      <td>3</td>\n",
       "      <td>223</td>\n",
       "    </tr>\n",
       "    <tr>\n",
       "      <th>1</th>\n",
       "      <td>12748.0</td>\n",
       "      <td>12.884595</td>\n",
       "      <td>1</td>\n",
       "      <td>37</td>\n",
       "      <td>3</td>\n",
       "      <td>3</td>\n",
       "      <td>1</td>\n",
       "      <td>331</td>\n",
       "    </tr>\n",
       "    <tr>\n",
       "      <th>2</th>\n",
       "      <td>12826.0</td>\n",
       "      <td>17.700000</td>\n",
       "      <td>1218</td>\n",
       "      <td>1</td>\n",
       "      <td>1</td>\n",
       "      <td>1</td>\n",
       "      <td>2</td>\n",
       "      <td>112</td>\n",
       "    </tr>\n",
       "    <tr>\n",
       "      <th>3</th>\n",
       "      <td>12829.0</td>\n",
       "      <td>47.900000</td>\n",
       "      <td>62</td>\n",
       "      <td>2</td>\n",
       "      <td>2</td>\n",
       "      <td>2</td>\n",
       "      <td>3</td>\n",
       "      <td>223</td>\n",
       "    </tr>\n",
       "    <tr>\n",
       "      <th>4</th>\n",
       "      <td>12838.0</td>\n",
       "      <td>5.500000</td>\n",
       "      <td>622</td>\n",
       "      <td>1</td>\n",
       "      <td>1</td>\n",
       "      <td>1</td>\n",
       "      <td>1</td>\n",
       "      <td>111</td>\n",
       "    </tr>\n",
       "    <tr>\n",
       "      <th>5</th>\n",
       "      <td>12839.0</td>\n",
       "      <td>30.575000</td>\n",
       "      <td>2</td>\n",
       "      <td>2</td>\n",
       "      <td>3</td>\n",
       "      <td>2</td>\n",
       "      <td>3</td>\n",
       "      <td>323</td>\n",
       "    </tr>\n",
       "    <tr>\n",
       "      <th>6</th>\n",
       "      <td>12841.0</td>\n",
       "      <td>7.950000</td>\n",
       "      <td>6</td>\n",
       "      <td>3</td>\n",
       "      <td>3</td>\n",
       "      <td>3</td>\n",
       "      <td>1</td>\n",
       "      <td>331</td>\n",
       "    </tr>\n",
       "    <tr>\n",
       "      <th>7</th>\n",
       "      <td>12855.0</td>\n",
       "      <td>17.700000</td>\n",
       "      <td>1875</td>\n",
       "      <td>1</td>\n",
       "      <td>1</td>\n",
       "      <td>1</td>\n",
       "      <td>2</td>\n",
       "      <td>112</td>\n",
       "    </tr>\n",
       "    <tr>\n",
       "      <th>8</th>\n",
       "      <td>12867.0</td>\n",
       "      <td>10.500000</td>\n",
       "      <td>57</td>\n",
       "      <td>1</td>\n",
       "      <td>2</td>\n",
       "      <td>1</td>\n",
       "      <td>1</td>\n",
       "      <td>211</td>\n",
       "    </tr>\n",
       "    <tr>\n",
       "      <th>9</th>\n",
       "      <td>12868.0</td>\n",
       "      <td>29.700000</td>\n",
       "      <td>36</td>\n",
       "      <td>1</td>\n",
       "      <td>2</td>\n",
       "      <td>1</td>\n",
       "      <td>3</td>\n",
       "      <td>213</td>\n",
       "    </tr>\n",
       "    <tr>\n",
       "      <th>10</th>\n",
       "      <td>12872.0</td>\n",
       "      <td>41.300000</td>\n",
       "      <td>581</td>\n",
       "      <td>1</td>\n",
       "      <td>1</td>\n",
       "      <td>1</td>\n",
       "      <td>3</td>\n",
       "      <td>113</td>\n",
       "    </tr>\n",
       "    <tr>\n",
       "      <th>11</th>\n",
       "      <td>12875.0</td>\n",
       "      <td>293.760000</td>\n",
       "      <td>548</td>\n",
       "      <td>1</td>\n",
       "      <td>1</td>\n",
       "      <td>1</td>\n",
       "      <td>3</td>\n",
       "      <td>113</td>\n",
       "    </tr>\n",
       "    <tr>\n",
       "      <th>12</th>\n",
       "      <td>12877.0</td>\n",
       "      <td>23.800000</td>\n",
       "      <td>57</td>\n",
       "      <td>1</td>\n",
       "      <td>2</td>\n",
       "      <td>1</td>\n",
       "      <td>2</td>\n",
       "      <td>212</td>\n",
       "    </tr>\n",
       "    <tr>\n",
       "      <th>13</th>\n",
       "      <td>12913.0</td>\n",
       "      <td>204.000000</td>\n",
       "      <td>533</td>\n",
       "      <td>1</td>\n",
       "      <td>1</td>\n",
       "      <td>1</td>\n",
       "      <td>3</td>\n",
       "      <td>113</td>\n",
       "    </tr>\n",
       "    <tr>\n",
       "      <th>14</th>\n",
       "      <td>12915.0</td>\n",
       "      <td>15.000000</td>\n",
       "      <td>3</td>\n",
       "      <td>1</td>\n",
       "      <td>3</td>\n",
       "      <td>1</td>\n",
       "      <td>2</td>\n",
       "      <td>312</td>\n",
       "    </tr>\n",
       "  </tbody>\n",
       "</table>\n",
       "</div>"
      ],
      "text/plain": [
       "    CustomerID    Monetary  Recency  Frequency  R_Score  F_Score  M_Score  \\\n",
       "0      12747.0   62.900000       13          2        2        2        3   \n",
       "1      12748.0   12.884595        1         37        3        3        1   \n",
       "2      12826.0   17.700000     1218          1        1        1        2   \n",
       "3      12829.0   47.900000       62          2        2        2        3   \n",
       "4      12838.0    5.500000      622          1        1        1        1   \n",
       "5      12839.0   30.575000        2          2        3        2        3   \n",
       "6      12841.0    7.950000        6          3        3        3        1   \n",
       "7      12855.0   17.700000     1875          1        1        1        2   \n",
       "8      12867.0   10.500000       57          1        2        1        1   \n",
       "9      12868.0   29.700000       36          1        2        1        3   \n",
       "10     12872.0   41.300000      581          1        1        1        3   \n",
       "11     12875.0  293.760000      548          1        1        1        3   \n",
       "12     12877.0   23.800000       57          1        2        1        2   \n",
       "13     12913.0  204.000000      533          1        1        1        3   \n",
       "14     12915.0   15.000000        3          1        3        1        2   \n",
       "\n",
       "   RFMScore  \n",
       "0       223  \n",
       "1       331  \n",
       "2       112  \n",
       "3       223  \n",
       "4       111  \n",
       "5       323  \n",
       "6       331  \n",
       "7       112  \n",
       "8       211  \n",
       "9       213  \n",
       "10      113  \n",
       "11      113  \n",
       "12      212  \n",
       "13      113  \n",
       "14      312  "
      ]
     },
     "execution_count": 393,
     "metadata": {},
     "output_type": "execute_result"
    }
   ],
   "source": [
    "df2['RFMScore'] = df2.R_Score.map(str) \\\n",
    "                            + df2.F_Score.map(str) \\\n",
    "                            + df2.M_Score.map(str)\n",
    "df2.head(15)"
   ]
  },
  {
   "cell_type": "markdown",
   "id": "58deb5fd",
   "metadata": {},
   "source": [
    "# Segmentation"
   ]
  },
  {
   "cell_type": "code",
   "execution_count": 394,
   "id": "d11caf8b",
   "metadata": {},
   "outputs": [
    {
     "name": "stdout",
     "output_type": "stream",
     "text": [
      "Champions:  28\n",
      "Loyal Customers:  48\n",
      "Potential Loyalists:  18\n",
      "At Risk:  175\n",
      "Can't lose them:  59\n",
      "Hibernating:  46\n",
      "Lost Customers:  232\n",
      "New Customers: 223\n"
     ]
    }
   ],
   "source": [
    "print(\"Champions: \",len(df2[df2['RFMScore']=='333']))\n",
    "print('Loyal Customers: ',len(df2[df2['RFMScore']=='233']) + len(df2[df2['RFMScore']=='332']))\n",
    "print('Potential Loyalists: ',len(df2[df2['RFMScore']=='133'])  + len(df2[df2['RFMScore']=='232']))\n",
    "print('At Risk: ',len(df2[df2['RFMScore']=='113'])  + len(df2[df2['RFMScore']=='213'])+ len(df2[df2['RFMScore']=='313']))\n",
    "print(\"Can't lose them: \", len(df2[df2['RFMScore']=='111']))\n",
    "print('Hibernating: ',len(df2[df2['RFMScore']=='121'])  + len(df2[df2['RFMScore']=='221'])+ len(df2[df2['RFMScore']=='321']))\n",
    "print(\"Lost Customers: \",len(df2[df2['RFMScore']=='112'])  + len(df2[df2['RFMScore']=='212'])+ len(df2[df2['RFMScore']=='312']))\n",
    "print('New Customers:', len(df2[df2['RFMScore'] == '311']) + len(df2[df2['RFMScore'] == '211']) + len(df2[df2['RFMScore'] == '111']))"
   ]
  },
  {
   "cell_type": "markdown",
   "id": "734ab00a",
   "metadata": {},
   "source": [
    "Based on these segments the store can target those specific customers and formulate ad campaigns or marketing accordingly. "
   ]
  }
 ],
 "metadata": {
  "kernelspec": {
   "display_name": "Python 3 (ipykernel)",
   "language": "python",
   "name": "python3"
  },
  "language_info": {
   "codemirror_mode": {
    "name": "ipython",
    "version": 3
   },
   "file_extension": ".py",
   "mimetype": "text/x-python",
   "name": "python",
   "nbconvert_exporter": "python",
   "pygments_lexer": "ipython3",
   "version": "3.9.13"
  },
  "toc": {
   "base_numbering": 1,
   "nav_menu": {},
   "number_sections": true,
   "sideBar": true,
   "skip_h1_title": false,
   "title_cell": "Table of Contents",
   "title_sidebar": "Contents",
   "toc_cell": false,
   "toc_position": {},
   "toc_section_display": true,
   "toc_window_display": false
  },
  "varInspector": {
   "cols": {
    "lenName": 16,
    "lenType": 16,
    "lenVar": 40
   },
   "kernels_config": {
    "python": {
     "delete_cmd_postfix": "",
     "delete_cmd_prefix": "del ",
     "library": "var_list.py",
     "varRefreshCmd": "print(var_dic_list())"
    },
    "r": {
     "delete_cmd_postfix": ") ",
     "delete_cmd_prefix": "rm(",
     "library": "var_list.r",
     "varRefreshCmd": "cat(var_dic_list()) "
    }
   },
   "types_to_exclude": [
    "module",
    "function",
    "builtin_function_or_method",
    "instance",
    "_Feature"
   ],
   "window_display": false
  }
 },
 "nbformat": 4,
 "nbformat_minor": 5
}
